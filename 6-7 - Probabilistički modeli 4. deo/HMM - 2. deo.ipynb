{
 "cells": [
  {
   "cell_type": "markdown",
   "id": "c588ea91",
   "metadata": {},
   "source": [
    "\n",
    "# HMM - 2. deo"
   ]
  },
  {
   "cell_type": "code",
   "execution_count": 1,
   "id": "060cad43",
   "metadata": {},
   "outputs": [],
   "source": [
    "import numpy as np\n",
    "\n",
    "# Bezbedno izračunavanje sume logaritmovanih vrednosti\n",
    "from scipy.special import logsumexp"
   ]
  },
  {
   "cell_type": "code",
   "execution_count": 2,
   "id": "c4d74dfa",
   "metadata": {},
   "outputs": [],
   "source": [
    "class HMM:\n",
    "    # Inicijalizacija HMM, Lambda (L) je uređena trojka \n",
    "    # matrica funkcija raspodela P, A i B\n",
    "    def __init__(self, L):\n",
    "        (P, A, B) = L\n",
    "        self.A = A\n",
    "        self.B = B\n",
    "        self.P = P\n",
    "        \n",
    "    # Funkcija raspodele verovatnoća prelazaka,\n",
    "    # a(q_1, q) -> verovatnoća prelaska iz stanja q-1 u stanje q\n",
    "    def a(self, q_1, q):\n",
    "        return self.A[q_1][q]\n",
    "    \n",
    "    # Funkcija raspodele emisionih verovatnoća,\n",
    "    # b(q, x) -> verovatnoća emisija simbola x iz stanja q\n",
    "    def b(self, q, x):\n",
    "        return self.B[q][x]\n",
    "    \n",
    "    # Funkcija raspodele emisionih verovatnoća,\n",
    "    # p(q) -> verovatnoća početka HMM iz stanja q\n",
    "    def p(self, q):\n",
    "        return self.P[q]\n",
    "    \n",
    "    # Prevođenje rednog broja stanja u oznaku stanja,\n",
    "    # npr 0 -> 'A'\n",
    "    def decode_state(self, i):\n",
    "        return list(self.P.keys())[i]\n",
    "    \n",
    "    # Prevođenje oznake stanja u redni broj,\n",
    "    # npr 'A' -> 0\n",
    "    def encode_state(self, q):\n",
    "        return list(self.P.keys()).index(q)\n",
    "    \n",
    "    # Treniranje parametara HMM na osnovu trening sekvenci X\n",
    "    # labeliranih oznakama Y\n",
    "    def fit(self, X, Y):\n",
    "        P = {}\n",
    "        n = len(X)\n",
    "        \n",
    "        q_set = set([])\n",
    "        x_set = set([])\n",
    "        \n",
    "        for y in Y:\n",
    "            for q in y:\n",
    "                q_set.add(q)\n",
    "                \n",
    "        for x in X:\n",
    "            for x_j in x:\n",
    "                x_set.add(x_j)\n",
    "        \n",
    "        # P\n",
    "        # ---------\n",
    "        for q in q_set:\n",
    "            P[q] = 0\n",
    "            \n",
    "        self.P = P\n",
    "        \n",
    "        n = len(Y)\n",
    "        for y in Y:\n",
    "            q_0 = y[0]\n",
    "            P[q_0] += 1 / n\n",
    "        \n",
    "        # B\n",
    "        # ---------\n",
    "        B = {}\n",
    "        \n",
    "        for q in q_set:\n",
    "            B[q] = {}\n",
    "            for x_j in x_set:\n",
    "                B[q][x_j] = 1\n",
    "        \n",
    "        for t in range(n):\n",
    "            x = X[t]\n",
    "            y = Y[t]\n",
    "            for j in range(len(x)):\n",
    "                q = y[j]\n",
    "                B[q][x[j]] += 1\n",
    "                \n",
    "        \n",
    "        for q in q_set:\n",
    "            total_count = 0\n",
    "            for x_j, count in B[q].items():\n",
    "                total_count += count\n",
    "                \n",
    "            for x_j in B[q].keys():\n",
    "                B[q][x_j] /= total_count\n",
    "        \n",
    "        # A\n",
    "        # ---------\n",
    "        A = {}\n",
    "        \n",
    "        state_counts = [2 for _ in q_set] # 1 za A, 1 za B, kod P(A|B)\n",
    "        for y in Y:\n",
    "            for i in range(len(y) - 1):\n",
    "                q = y[i]\n",
    "                state_counts[self.encode_state(q)] += 1\n",
    "                \n",
    "                \n",
    "        # Pseudobrojaci\n",
    "        for q_1 in q_set:\n",
    "            A[q_1] = {}\n",
    "            for q in q_set:\n",
    "                A[q_1][q] = 1 / state_counts[self.encode_state(q_1)]\n",
    "                \n",
    "        print(state_counts)\n",
    "\n",
    "        for y in Y:\n",
    "            for i in range(1, len(y)):\n",
    "                q_1 = y[i-1]\n",
    "                q = y[i]\n",
    "                \n",
    "                A[q_1][q] += 1 / state_counts[self.encode_state(q_1)]\n",
    "\n",
    "        self.A = A\n",
    "        self.B = B\n",
    "        self.P = P\n",
    "    \n",
    "    # Viterbi algoritam za pronalaženje najverovatnije sekvence\n",
    "    # skrivenih stanja iz kojih je emitovana sekvenca x\n",
    "    def viterbi(self, x):\n",
    "        T = len(x)\n",
    "        N = len(self.P.keys())\n",
    "        \n",
    "        v = np.array([[0.0 for _ in range(T)] for _ in range(N)])\n",
    "        backtrack = np.array([[0 for _ in range(T)] for _ in range(N)])\n",
    "        \n",
    "        for j in range(T):\n",
    "            x_j = x[j]\n",
    "            \n",
    "            # Analiza početnog stanja\n",
    "            if j == 0:\n",
    "                for i in range(N):\n",
    "                    q = self.decode_state(i)\n",
    "                    transition_prob = np.log(self.p(q))\n",
    "                    \n",
    "                    emission_prob = np.log(self.b(q, x_j))\n",
    "                    \n",
    "                    v[i, j] = transition_prob + emission_prob\n",
    "                    backtrack[i, j] = -1\n",
    "                    \n",
    "            else:\n",
    "                for i in range(N):\n",
    "                    q = self.decode_state(i)\n",
    "                    emission_prob = np.log(self.b(q, x_j))\n",
    "                    \n",
    "                    max_prob = float('-inf')\n",
    "                    max_prev_i = None\n",
    "                    \n",
    "                    for i_1 in range(N):\n",
    "                        q_1 = self.decode_state(i_1)\n",
    "                        \n",
    "                        previous_prob = v[i_1, j - 1]\n",
    "                        transition_prob = np.log(self.a(q_1, q))\n",
    "                        \n",
    "                        prob = previous_prob + transition_prob + emission_prob\n",
    "                        \n",
    "                        if prob > max_prob:\n",
    "                            max_prob = prob\n",
    "                            max_prev_i = i_1\n",
    "                            \n",
    "                    v[i, j] = max_prob\n",
    "                    backtrack[i, j] = max_prev_i\n",
    "                    \n",
    "        i = np.argmax(v[:, T - 1])\n",
    "        qn = self.decode_state(i)\n",
    "        \n",
    "        path = [qn]\n",
    "    \n",
    "        j = T - 1\n",
    "        \n",
    "        # Rekonstrukcija puta\n",
    "        while backtrack[i][j] != -1:\n",
    "            i = backtrack[i][j]\n",
    "            qi = self.decode_state(i)\n",
    "            path = [qi] + path\n",
    "            j -= 1\n",
    "            \n",
    "        return path\n",
    "    \n",
    "    # Forward algoritam za izračunavanje verovatnoće\n",
    "    # prefiksa sekvence do pozicije k\n",
    "    def forward(self, X, k = None):\n",
    "        if k == None:\n",
    "            T = len(X)\n",
    "        else:\n",
    "            T = k\n",
    "        \n",
    "        N = len(self.A)\n",
    "\n",
    "        v_matrix = np.array([[0.0 for _ in range(T)] for _ in range(N)])\n",
    "        \n",
    "        for t in range(T):\n",
    "            x = X[t]\n",
    "            \n",
    "            if t == 0:\n",
    "                for i in range(N):\n",
    "                    q = self.decode_state(i)\n",
    "                    \n",
    "                    transition_prob = self.p(q)\n",
    "                    emission_prob = self.b(q, x)\n",
    "                    \n",
    "                    prob = transition_prob * emission_prob\n",
    "                    \n",
    "                    v_matrix[i,t] = prob\n",
    "                    \n",
    "            else:\n",
    "                for i in range(N):\n",
    "\n",
    "                    sum_prob = 0\n",
    "\n",
    "                    q = self.decode_state(i)\n",
    "\n",
    "                    emission_prob = self.b(q, x)\n",
    "\n",
    "                    for j in range(N):\n",
    "                        q_1 = self.decode_state(j)\n",
    "\n",
    "                        prev_prob = v_matrix[j, t - 1]\n",
    "\n",
    "                        transition_prob = self.a(q_1, q)\n",
    "\n",
    "                        prob = transition_prob * emission_prob * prev_prob\n",
    "\n",
    "                        sum_prob += prob\n",
    "\n",
    "                    v_matrix[i, t] = sum_prob\n",
    "                \n",
    "        \n",
    "        return v_matrix[:,T - 1].sum(), v_matrix[:,T - 1], v_matrix\n",
    "    \n",
    "    \n",
    "    # Backward algoritam za izračunavanje verovatnoće\n",
    "    # sufiksa sekvence od pozicije k\n",
    "    def backward(self, X, k = None):\n",
    "        T = len(X)\n",
    "        N = len(self.A)\n",
    "        \n",
    "        if k == None:\n",
    "            start = 0\n",
    "        else:\n",
    "            start = k\n",
    "\n",
    "        v_matrix = np.array([[0.0 for _ in range(T)] for _ in range(N)])\n",
    "  \n",
    "        for t in reversed(range(start, T)):\n",
    "            x = X[t]\n",
    "            \n",
    "            if t == T - 1:\n",
    "                for i in range(N):\n",
    "                    q = self.decode_state(i)\n",
    "                    \n",
    "                    transition_prob = 1\n",
    "                    emission_prob = self.b(q, x)\n",
    "                    \n",
    "                    prob = transition_prob * emission_prob\n",
    "                    \n",
    "                    v_matrix[i, t] = prob\n",
    "                    \n",
    "            else:\n",
    "                for i in range(N):\n",
    "\n",
    "                    sum_prob = 0\n",
    "\n",
    "                    q = self.decode_state(i)\n",
    "\n",
    "                    emission_prob = self.b(q, x)\n",
    "\n",
    "                    for j in range(N):\n",
    "                        q_1 = self.decode_state(j)\n",
    "\n",
    "                        prev_prob = v_matrix[j, t + 1]\n",
    "\n",
    "                        transition_prob = self.a(q, q_1)\n",
    "\n",
    "                        prob = transition_prob * emission_prob * prev_prob\n",
    "                        \n",
    "                        if t == start:\n",
    "                            prob *= self.p(q)\n",
    "\n",
    "                        \n",
    "                        sum_prob += prob\n",
    "\n",
    "                    v_matrix[i, t] = sum_prob\n",
    "        \n",
    "        return v_matrix[:,start].sum(), v_matrix[:,start], v_matrix\n",
    "    \n",
    "    # Forward-backward algoritam za izračunavanje raspodele verovatnoća\n",
    "    # dolaska u skrivena stanja modela u trenutku t\n",
    "    def forward_backward(self, X, t):\n",
    "        _, alpha, _ = self.forward(X, t)\n",
    "        _, beta, _ = self.backward(X, t)\n",
    "        prod = (alpha * beta)\n",
    "        norm_prod = prod / prod.sum()\n",
    "        \n",
    "        return norm_prod\n",
    "    \n",
    "    # Primer implementacije backward algoritma\n",
    "    # koji koristi logaritme verovatnoća\n",
    "    def log_backward(self, X, k = None):\n",
    "        T = len(X)\n",
    "        N = len(self.A)\n",
    "        \n",
    "        if k == None:\n",
    "            start = 0\n",
    "        else:\n",
    "            start = k\n",
    "\n",
    "        v_matrix = np.array([[0.0 for _ in range(T)] for _ in range(N)])\n",
    "  \n",
    "        for t in reversed(range(start, T)):\n",
    "            x = X[t]\n",
    "            \n",
    "            if t == T - 1:\n",
    "                for i in range(N):\n",
    "                    q = self.decode_state(i)\n",
    "                    \n",
    "                    transition_prob = 0\n",
    "                    emission_prob = np.log(self.b(q, x))\n",
    "                    \n",
    "                    prob = transition_prob + emission_prob\n",
    "                    \n",
    "                    v_matrix[i, t] = prob\n",
    "                    \n",
    "            else:\n",
    "                for i in range(N):\n",
    "\n",
    "                    sum_prob = None\n",
    "\n",
    "                    q = self.decode_state(i)\n",
    "\n",
    "                    emission_prob = np.log(self.b(q, x))\n",
    "\n",
    "                    for j in range(N):\n",
    "                        q_1 = self.decode_state(j)\n",
    "\n",
    "                        prev_prob = v_matrix[j, t + 1]\n",
    "\n",
    "                        transition_prob = np.log(self.a(q, q_1))\n",
    "\n",
    "                        prob = transition_prob + emission_prob + prev_prob\n",
    "                        \n",
    "                        if t == start:\n",
    "                            prob += np.log(self.p(q))\n",
    "\n",
    "                        if sum_prob == None:\n",
    "                            sum_prob = prob\n",
    "                        else:\n",
    "                            sum_prob = logsumexp([sum_prob, prob])\n",
    "\n",
    "                    v_matrix[i, t] = sum_prob\n",
    "        \n",
    "        return logsumexp(v_matrix[:,start]), v_matrix[:,start], v_matrix\n",
    "    \n",
    "    # Baum-Welch algoritam za učenje parametara HMM,\n",
    "    # EM pristupom, na pojedinačnoj sekvenci\n",
    "    def baum_welch_single_sequence(self, X):\n",
    "        _, _, all_alpha = self.forward(X)\n",
    "        _, _, all_beta = self.backward(X)\n",
    "        \n",
    "        T = len(X)\n",
    "        N = len(self.A)\n",
    "        \n",
    "        gamma = all_alpha * all_beta\n",
    "        \n",
    "        for t in range(T):\n",
    "            marg_prob = gamma[:, t].sum()\n",
    "            gamma[:, t] /= marg_prob\n",
    "            \n",
    "        zeye = np.array([[[0.0 for t in range(T)] for j in range(N)] for i in range(N)])\n",
    "        \n",
    "        for t in range(T - 1):\n",
    "            marg_prob = 0\n",
    "            for i in range(N):\n",
    "                qi = self.decode_state(i)\n",
    "                \n",
    "                for j in range(N):\n",
    "                    qj = self.decode_state(j)\n",
    "                    \n",
    "                    prob = all_alpha[i, t] * self.a(qi, qj) * all_beta[j, t + 1] * self.b(qj, X[t + 1])\n",
    "                    zeye[i, j, t] = prob\n",
    "                    marg_prob += prob\n",
    "                    \n",
    "            zeye[:,:,t] /= marg_prob\n",
    "            \n",
    "        new_P = {}\n",
    "        \n",
    "        for i in range(N):\n",
    "            qi = self.decode_state(i)\n",
    "            \n",
    "            new_P[qi] = gamma[i, 0]\n",
    "            \n",
    "        new_a = {}\n",
    "        \n",
    "        for i in range(N):\n",
    "            qi = self.decode_state(i)\n",
    "            \n",
    "            if qi not in new_a:\n",
    "                new_a[qi] = {}\n",
    "            \n",
    "            for j in range(N):\n",
    "                qj = self.decode_state(j)\n",
    "                \n",
    "                new_a[qi][qj] = zeye[i,j, : T - 1].sum() / gamma[i, : T - 1].sum()\n",
    "                \n",
    "        v = ['A','T', 'C', 'G']\n",
    "        \n",
    "        new_b = {}\n",
    "        \n",
    "        for i in range(N):\n",
    "            qi = self.decode_state(i)\n",
    "            new_b[qi] = {}\n",
    "            \n",
    "            for vk in v:\n",
    "                indicator = np.array([int(X[t] == vk) for t in range(T)])\n",
    "                \n",
    "                new_b[qi][vk] = (gamma[i,:] * indicator).sum() / gamma[i,:].sum()\n",
    "            \n",
    "            \n",
    "        return new_a, new_b, new_P\n",
    "    \n",
    "    # Metod izračunava verovatnoću pojave\n",
    "    # kompletne sekvence X_arr pri zadatim\n",
    "    # parametrima HMM\n",
    "    def x_prob(self, X_arr):\n",
    "        total_prob = 1.0\n",
    "        \n",
    "        for x in X_arr:\n",
    "            total_prob *= self.forward(x)[0]\n",
    "            \n",
    "        return total_prob\n",
    "    \n",
    "    # Baum-Welch algoritam za učenje parametara HMM\n",
    "    # nad skupom trening sekvenci\n",
    "    def baum_welch(self, X_arr):\n",
    "        R = len(X_arr)\n",
    "        N = len(self.A)\n",
    "        \n",
    "        eps = pow(10, -10)\n",
    "            \n",
    "        old_prob = 0\n",
    "        new_prob = 1\n",
    "        \n",
    "        v = ['A','T','C','G']\n",
    "        \n",
    "        while True:\n",
    "            old_prob = self.x_prob(X)\n",
    "            \n",
    "            a = []\n",
    "            b = []\n",
    "            p = []\n",
    "            \n",
    "            for x in X_arr:\n",
    "                ai, bi, pi = self.baum_welch_single_sequence(x)\n",
    "                a.append(ai)\n",
    "                b.append(bi)\n",
    "                p.append(pi)\n",
    "                \n",
    "            new_P = {}\n",
    "            new_A = {}\n",
    "            new_B = {}\n",
    "                \n",
    "            for r in range(R):\n",
    "                # P\n",
    "                for i in range(N):\n",
    "                    qi = self.decode_state(i)\n",
    "                    \n",
    "                    if qi not in new_P:\n",
    "                        new_P[qi] = 0\n",
    "                        \n",
    "                    new_P[qi] += (p[r][qi] / R)\n",
    "                    \n",
    "                # A\n",
    "                for i in range(N):\n",
    "                    qi = self.decode_state(i)\n",
    "                    for j in range(N):\n",
    "                        qj = self.decode_state(j)\n",
    "\n",
    "                        if qi not in new_A:\n",
    "                            new_A[qi] = {}\n",
    "                            \n",
    "                        if qj not in new_A[qi]:\n",
    "                            new_A[qi][qj] = 0\n",
    "\n",
    "                        new_A[qi][qj] += (a[r][qi][qj] / R)\n",
    "                        \n",
    "                # B\n",
    "                for i in range(N):\n",
    "                    qi = self.decode_state(i)\n",
    "                    for vk in v:\n",
    "\n",
    "                        if qi not in new_B:\n",
    "                            new_B[qi] = {}\n",
    "                            \n",
    "                        if vk not in new_B[qi]:\n",
    "                            new_B[qi][vk] = 0\n",
    "\n",
    "                        new_B[qi][vk] += (b[r][qi][vk] / R)\n",
    "                \n",
    "\n",
    "            self.A = new_A\n",
    "            self.P = new_P\n",
    "            self.B = new_B\n",
    "                \n",
    "            new_prob = self.x_prob(X)\n",
    "            \n",
    "            if new_prob <= old_prob + eps:\n",
    "                break"
   ]
  },
  {
   "cell_type": "code",
   "execution_count": 3,
   "id": "efa3e34e",
   "metadata": {},
   "outputs": [],
   "source": [
    "# Funkcija raspodele početnih verovatnoća\n",
    "P = {\n",
    "    '-': 0.5,\n",
    "    '+': 0.5\n",
    "}\n",
    "\n",
    "# Funkcija raspodele verovatnoća prelaza između stanja\n",
    "A = {\n",
    "    '-': {\n",
    "        '-': 0.6,\n",
    "        '+': 0.4\n",
    "        },\n",
    "    '+': {\n",
    "        '-': 0.4,\n",
    "        '+': 0.6\n",
    "    }\n",
    "}\n",
    "\n",
    "# Funkcija raspodele emisionih verovatnoća\n",
    "B = {\n",
    "    '-': {\n",
    "        'A': 0.30,\n",
    "        'C': 0.25,\n",
    "        'G': 0.20,\n",
    "        'T': 0.25\n",
    "    },\n",
    "    '+': {\n",
    "        'A': 0.20,\n",
    "        'C': 0.25,\n",
    "        'G': 0.30,\n",
    "        'T': 0.25\n",
    "    }\n",
    "}"
   ]
  },
  {
   "cell_type": "markdown",
   "id": "87572185",
   "metadata": {},
   "source": [
    "## Primeri"
   ]
  },
  {
   "cell_type": "code",
   "execution_count": 4,
   "id": "f59605d4",
   "metadata": {},
   "outputs": [],
   "source": [
    "hmm = HMM((P, A, B))"
   ]
  },
  {
   "cell_type": "code",
   "execution_count": 5,
   "id": "733ba65b",
   "metadata": {},
   "outputs": [
    {
     "data": {
      "text/plain": [
       "(1.53340625e-05,\n",
       " array([9.2615625e-06, 6.0725000e-06]),\n",
       " array([[1.2500000e-01, 3.7500000e-02, 8.1250000e-03, 2.3625000e-03,\n",
       "         5.0937500e-04, 1.4793750e-04, 3.1890625e-05, 9.2615625e-06],\n",
       "        [1.2500000e-01, 2.5000000e-02, 7.5000000e-03, 1.5500000e-03,\n",
       "         4.6875000e-04, 9.7000000e-05, 2.9343750e-05, 6.0725000e-06]]))"
      ]
     },
     "execution_count": 5,
     "metadata": {},
     "output_type": "execute_result"
    }
   ],
   "source": [
    "seq = 'CACACACA'\n",
    "hmm.forward(seq)"
   ]
  },
  {
   "cell_type": "code",
   "execution_count": 6,
   "id": "83e975b2",
   "metadata": {},
   "outputs": [
    {
     "data": {
      "text/plain": [
       "(1.53340625e-05,\n",
       " array([7.9859375e-06, 7.3481250e-06]),\n",
       " array([[7.9859375e-06, 7.4092500e-05, 2.5512500e-04, 1.1835000e-03,\n",
       "         4.0750000e-03, 1.8900000e-02, 6.5000000e-02, 3.0000000e-01],\n",
       "        [7.3481250e-06, 4.8580000e-05, 2.3475000e-04, 7.7600000e-04,\n",
       "         3.7500000e-03, 1.2400000e-02, 6.0000000e-02, 2.0000000e-01]]))"
      ]
     },
     "execution_count": 6,
     "metadata": {},
     "output_type": "execute_result"
    }
   ],
   "source": [
    "seq = 'CACACACA'\n",
    "hmm.backward(seq)"
   ]
  },
  {
   "cell_type": "code",
   "execution_count": 7,
   "id": "cc4ce521",
   "metadata": {},
   "outputs": [
    {
     "data": {
      "text/plain": [
       "array([0.46097561, 0.53902439])"
      ]
     },
     "execution_count": 7,
     "metadata": {},
     "output_type": "execute_result"
    }
   ],
   "source": [
    "seq = 'GCCGTAAT'\n",
    "hmm.forward_backward(seq, t=2)"
   ]
  },
  {
   "cell_type": "code",
   "execution_count": 8,
   "id": "2f0c1f6d",
   "metadata": {},
   "outputs": [
    {
     "data": {
      "text/plain": [
       "({'-': {'-': 0.5970536739631223, '+': 0.3981790031535128},\n",
       "  '+': {'-': 0.4082225205915375, '+': 0.5966822194047895}},\n",
       " {'-': {'A': 0.34737042962954334,\n",
       "   'T': 0.3195685397429177,\n",
       "   'C': 0.19146885088188303,\n",
       "   'G': 0.14159217974565544},\n",
       "  '+': {'A': 0.1644573608387282,\n",
       "   'T': 0.30885897735935797,\n",
       "   'C': 0.2087635494147188,\n",
       "   'G': 0.3179201123871953}},\n",
       " {'-': 0.6957313201406969, '+': 0.3042686798593031})"
      ]
     },
     "execution_count": 8,
     "metadata": {},
     "output_type": "execute_result"
    }
   ],
   "source": [
    "X = 'ATATCATTGCGCGTTCGCGAGCTATTTTATATATCTAGAGTAGCAGAGGCGCGCATATAGCTACTATCGT'\n",
    "hmm.baum_welch_single_sequence(X)"
   ]
  },
  {
   "cell_type": "markdown",
   "id": "344ccf47",
   "metadata": {},
   "source": [
    "Učenje parametara modela na osnovu trening sekvenci X"
   ]
  },
  {
   "cell_type": "code",
   "execution_count": 9,
   "id": "be8250fb",
   "metadata": {},
   "outputs": [
    {
     "name": "stdout",
     "output_type": "stream",
     "text": [
      "{'-': 0.5436104561661537, '+': 0.45638954383384633}\n",
      "{'-': {'-': 0.612879858514279, '+': 0.3778108930191608}, '+': {'-': 0.42477483545209105, '+': 0.5927173059087132}}\n",
      "{'-': {'A': 0.36886476053343237, 'T': 0.31125613140564523, 'C': 0.20492752425819916, 'G': 0.11495158380272327}, '+': {'A': 0.18842629287121224, 'T': 0.3395303275277183, 'C': 0.2122486373364868, 'G': 0.25979474226458266}}\n"
     ]
    }
   ],
   "source": [
    "X = ['ATTATATTATATTATATTAAA', 'CCTAGTCGTGTCGCAAAAAAAACTGCTCTGACCTGAGC', 'ATTATATGCCGCGGC', 'GGGCCCCGGCTTATATAT']\n",
    "Y = ['---------------------', '++++++++++++++--------++++++++++++++++', '-------++++++++', '++++++++++--------']\n",
    "\n",
    "hmm.baum_welch(X)\n",
    "\n",
    "print(hmm.P)\n",
    "print(hmm.A)\n",
    "print(hmm.B)"
   ]
  },
  {
   "cell_type": "markdown",
   "id": "343532ac",
   "metadata": {},
   "source": [
    "Evaluacija treniranog modela nad trening sekvencama u odnosu na stvarne oznake skrivenih stanja"
   ]
  },
  {
   "cell_type": "code",
   "execution_count": 10,
   "id": "a9a4da80",
   "metadata": {},
   "outputs": [
    {
     "name": "stdout",
     "output_type": "stream",
     "text": [
      "ATTATATTATATTATATTAAA\n",
      "---------------------\n",
      "---------------------\n",
      "CCTAGTCGTGTCGCAAAAAAAACTGCTCTGACCTGAGC\n",
      "----++++++++++--------++++++++++++++++\n",
      "++++++++++++++--------++++++++++++++++\n",
      "ATTATATGCCGCGGC\n",
      "------+++++++++\n",
      "-------++++++++\n",
      "GGGCCCCGGCTTATATAT\n",
      "++++++++++++------\n",
      "++++++++++--------\n"
     ]
    }
   ],
   "source": [
    "for i in range(len(X)):\n",
    "    x = X[i]\n",
    "    y = Y[i]\n",
    "    \n",
    "    print(x)\n",
    "    print(''.join(hmm.viterbi(x)))\n",
    "    print(y)"
   ]
  },
  {
   "cell_type": "markdown",
   "id": "a8331544",
   "metadata": {},
   "source": [
    "# Biblioteka HMMLearn"
   ]
  },
  {
   "cell_type": "code",
   "execution_count": 11,
   "id": "905cdfcf",
   "metadata": {},
   "outputs": [],
   "source": [
    "from hmmlearn import hmm\n",
    "import numpy as np"
   ]
  },
  {
   "cell_type": "code",
   "execution_count": 12,
   "id": "d5c40fa5",
   "metadata": {},
   "outputs": [],
   "source": [
    "# Konstrukcija modela za pronalaženje CpG ostrva\n",
    "model = hmm.MultinomialHMM(n_components=2)"
   ]
  },
  {
   "cell_type": "code",
   "execution_count": 13,
   "id": "5f054ec4",
   "metadata": {},
   "outputs": [],
   "source": [
    "# 0: -, 1: +\n",
    "states = ['-', '+']\n",
    "observations = ['A', 'C', 'G', 'T']\n",
    "#                            -     +\n",
    "model.startprob_ = np.array([0.5, 0.5])\n",
    "model.transmat_ = np.array([\n",
    "    # --   -+\n",
    "    [0.9, 0.1],\n",
    "    \n",
    "    # +-   ++\n",
    "    [0.1, 0.9]\n",
    "])\n",
    "model.emissionprob_ = np.array([\n",
    "    # A      C     G     T\n",
    "    [0.37, 0.13, 0.13, 0.37],\n",
    "    [0.13, 0.37, 0.37, 0.13],\n",
    "])\n",
    "\n",
    "X = 'ATATCATTGCGCGTTCGCGAGCTATTTTATATATCTAGAGTAGCAGAGGCGCGCATATAGCTACTATCGT'\n",
    "X_encoded = []\n",
    "\n",
    "for x in X:\n",
    "    X_encoded.append(observations.index(x))\n",
    "    \n",
    "X_encoded = np.array([X_encoded]).T"
   ]
  },
  {
   "cell_type": "code",
   "execution_count": 14,
   "id": "d5737081",
   "metadata": {},
   "outputs": [],
   "source": [
    "# Kodiranje emisija u brojeve\n",
    "encoded_y = model.decode(X_encoded)[1]\n",
    "y_pred = ''.join(list(map(lambda y: states[y], encoded_y)))"
   ]
  },
  {
   "cell_type": "code",
   "execution_count": 15,
   "id": "71962ffe",
   "metadata": {},
   "outputs": [
    {
     "name": "stdout",
     "output_type": "stream",
     "text": [
      "ATATCATTGCGCGTTCGCGAGCTATTTTATATATCTAGAGTAGCAGAGGCGCGCATATAGCTACTATCGT\n",
      "--------++++++++++++++--------------------++++++++++++----------------\n"
     ]
    }
   ],
   "source": [
    "print(X)\n",
    "print(y_pred)"
   ]
  },
  {
   "cell_type": "markdown",
   "id": "7da6839a",
   "metadata": {},
   "source": [
    "Učenje parametara modela"
   ]
  },
  {
   "cell_type": "code",
   "execution_count": 49,
   "id": "c7a9c2e0",
   "metadata": {},
   "outputs": [
    {
     "data": {
      "text/plain": [
       "MultinomialHMM(n_components=2, random_state=RandomState(MT19937) at 0x107CF6540)"
      ]
     },
     "execution_count": 49,
     "metadata": {},
     "output_type": "execute_result"
    }
   ],
   "source": [
    "new_model = hmm.MultinomialHMM(n_components=2, algorithm='viterbi')\n",
    "\n",
    "X = ['ATTATATTATATTATATTAAA', 'CCTAGTCGTGTCGCAAAAAAAACTGCTCTGACCTGAGC', 'ATTATATGCCGCGGC', 'GGGCCCCGGCTTATATAT']\n",
    "X_encoded = None\n",
    "init = False\n",
    "for x in X:\n",
    "    new_encoded = []\n",
    "    for c in x:\n",
    "        new_encoded.append(observations.index(c))\n",
    "        \n",
    "    \n",
    "    if not init:\n",
    "        X_encoded = np.array([new_encoded]).T\n",
    "        init = True\n",
    "    else:\n",
    "        X_encoded = np.concatenate([X_encoded, np.array([new_encoded]).T])\n",
    "    \n",
    "X_encoded\n",
    "\n",
    "\n",
    "new_model.fit(X_encoded, [len(x) for x in X])"
   ]
  },
  {
   "cell_type": "code",
   "execution_count": 50,
   "id": "47f38479",
   "metadata": {},
   "outputs": [],
   "source": [
    "X = 'ATATCATTGCGCGTTCGCGAGCTATTTTATATATCTAGAGTAGCAGAGGCGCGCATATAGCTACTATCGT'\n",
    "X_encoded = []\n",
    "\n",
    "for x in X:\n",
    "    X_encoded.append(observations.index(x))\n",
    "    \n",
    "X_encoded = np.array([X_encoded]).T\n",
    "\n",
    "# new_model.decode(X_encoded)\n",
    "\n",
    "encoded_y = new_model.decode(X_encoded)[1]\n",
    "y_pred = ''.join(list(map(lambda y: states[y], encoded_y)))"
   ]
  },
  {
   "cell_type": "code",
   "execution_count": 51,
   "id": "539c80da",
   "metadata": {},
   "outputs": [
    {
     "name": "stdout",
     "output_type": "stream",
     "text": [
      "ATATCATTGCGCGTTCGCGAGCTATTTTATATATCTAGAGTAGCAGAGGCGCGCATATAGCTACTATCGT\n",
      "----++++++++++++++++++------------++++++++++++++++++++-----+++++++++++\n"
     ]
    }
   ],
   "source": [
    "''' \n",
    "Napomena, algoritam za učenje parametara HMM modela\n",
    "pronalazi lokalno optimalno rešenje te je moguće da \n",
    "pronađeni parametri (posebno u ovako jednostavnom slučaju)\n",
    "značajno odstupaju od očekivanih, te je potrebno obuku\n",
    "pokrenuti više puta\n",
    "'''\n",
    "\n",
    "print(X)\n",
    "print(y_pred)"
   ]
  },
  {
   "cell_type": "markdown",
   "id": "af902bf2",
   "metadata": {},
   "source": [
    "## Primer: segmentisanje EKG signala"
   ]
  },
  {
   "cell_type": "code",
   "execution_count": 19,
   "id": "d5e511a8",
   "metadata": {},
   "outputs": [],
   "source": [
    "import wfdb\n",
    "import matplotlib.pyplot as plt"
   ]
  },
  {
   "cell_type": "code",
   "execution_count": 20,
   "id": "68fabbc4",
   "metadata": {},
   "outputs": [],
   "source": [
    "# Izvor: https://physionet.org/\n",
    "sample = wfdb.rdsamp('data/a01')"
   ]
  },
  {
   "cell_type": "code",
   "execution_count": 21,
   "id": "c28ff2a1",
   "metadata": {},
   "outputs": [],
   "source": [
    "signal = sample[0]"
   ]
  },
  {
   "cell_type": "code",
   "execution_count": 22,
   "id": "24d5ccfa",
   "metadata": {},
   "outputs": [
    {
     "data": {
      "text/plain": [
       "[<matplotlib.lines.Line2D at 0x12b7cbca0>]"
      ]
     },
     "execution_count": 22,
     "metadata": {},
     "output_type": "execute_result"
    },
    {
     "data": {
      "image/png": "[encoded data removed]",
      "text/plain": [
       "<Figure size 432x288 with 1 Axes>"
      ]
     },
     "metadata": {
      "needs_background": "light"
     },
     "output_type": "display_data"
    }
   ],
   "source": [
    "signal_short = signal.ravel()[:100]\n",
    "\n",
    "plt.plot(signal_short)"
   ]
  },
  {
   "cell_type": "code",
   "execution_count": 23,
   "id": "b1c7ccb4",
   "metadata": {},
   "outputs": [
    {
     "data": {
      "text/plain": [
       "GaussianHMM(n_components=4)"
      ]
     },
     "execution_count": 23,
     "metadata": {},
     "output_type": "execute_result"
    }
   ],
   "source": [
    "# Pronalaženje modela koji na signalu prepoznaje\n",
    "# 4 komponente\n",
    "\n",
    "n_components = 4\n",
    "ghmm_model = hmm.GaussianHMM(n_components = n_components)\n",
    "ghmm_model.fit(signal)"
   ]
  },
  {
   "cell_type": "code",
   "execution_count": 65,
   "id": "43545a46",
   "metadata": {},
   "outputs": [],
   "source": [
    "y_pred = ghmm_model.decode(signal[:300])"
   ]
  },
  {
   "cell_type": "code",
   "execution_count": 66,
   "id": "aa57f357",
   "metadata": {},
   "outputs": [
    {
     "data": {
      "text/plain": [
       "[<matplotlib.lines.Line2D at 0x12c98adc0>]"
      ]
     },
     "execution_count": 66,
     "metadata": {},
     "output_type": "execute_result"
    },
    {
     "data": {
      "image/png": "[encoded data removed]",
      "text/plain": [
       "<Figure size 432x288 with 1 Axes>"
      ]
     },
     "metadata": {
      "needs_background": "light"
     },
     "output_type": "display_data"
    }
   ],
   "source": [
    "plt.plot(signal[:300].ravel())\n",
    "plt.plot(y_pred[1].ravel())"
   ]
  },
  {
   "cell_type": "markdown",
   "id": "2d2bcc5b",
   "metadata": {},
   "source": [
    "Generisanje novih uzoraka pomoću HMM"
   ]
  },
  {
   "cell_type": "code",
   "execution_count": 127,
   "id": "8ba19baa",
   "metadata": {},
   "outputs": [
    {
     "data": {
      "text/plain": [
       "[<matplotlib.lines.Line2D at 0x12e09d400>]"
      ]
     },
     "execution_count": 127,
     "metadata": {},
     "output_type": "execute_result"
    },
    {
     "data": {
      "image/png": "[encoded data removed]",
      "text/plain": [
       "<Figure size 432x288 with 1 Axes>"
      ]
     },
     "metadata": {
      "needs_background": "light"
     },
     "output_type": "display_data"
    }
   ],
   "source": [
    "samples = ghmm_model.sample(n_samples=100)\n",
    "plt.plot(samples[0].ravel())"
   ]
  },
  {
   "cell_type": "code",
   "execution_count": null,
   "id": "99ee97c5",
   "metadata": {},
   "outputs": [],
   "source": []
  }
 ],
 "metadata": {
  "kernelspec": {
   "display_name": "Python 3 (ipykernel)",
   "language": "python",
   "name": "python3"
  },
  "language_info": {
   "codemirror_mode": {
    "name": "ipython",
    "version": 3
   },
   "file_extension": ".py",
   "mimetype": "text/x-python",
   "name": "python",
   "nbconvert_exporter": "python",
   "pygments_lexer": "ipython3",
   "version": "3.8.9"
  }
 },
 "nbformat": 4,
 "nbformat_minor": 5
}
