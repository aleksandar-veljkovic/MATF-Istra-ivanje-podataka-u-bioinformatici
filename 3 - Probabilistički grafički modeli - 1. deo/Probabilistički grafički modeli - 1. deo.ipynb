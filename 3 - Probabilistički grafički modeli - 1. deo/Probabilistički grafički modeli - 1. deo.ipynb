{
 "cells": [
  {
   "cell_type": "markdown",
   "metadata": {},
   "source": [
    "# PGM - 1. deo"
   ]
  },
  {
   "cell_type": "markdown",
   "metadata": {},
   "source": [
    "## Osnovni pojmovi\n",
    "- $X$ - slučajna promenljiva (broj dobijen na gornjoj strani kockice)\n",
    "- $\\{1, 2, 3, 4, 5, 6\\}$ - skup vrednosti slučajne promenljive\n",
    "- $P(X=1)$ - Verovatnoća da slučajna promenljiva $X$ ima vrednost $1$\n",
    "- $P(X) = \\{1: 1/6, 2: 1/6, ... , 6: 1/6 \\}$ - Funkcija raspodele vrednosti slučajne promenljive $X$\n",
    "- $P(X=1, Y=2)$ - Zajednička verovatnoća da promenljive $X$ i $Y$ istovremeno imaju vrednosti $1$ i $2$\n",
    "- $P(X, Y)$ - Zajednička raspodela verovatnoća vrednosti $X$ i $Y$\n",
    "- $P(X=1|Y=2)$ - Uslovna verovatnoća, verovatnoća da promenljiva $X$ ima vrednost $1$ AKO promenljiva $Y$ ima vrednost $2$\n",
    "- $P(X|Y)$ - Uslovna raspodela verovatnoća vrednosti promenljive $X$ u odnosu na vrednosti promenljive $Y$\n",
    "\n",
    "## Osnovne jednakosti\n",
    "- $P(X,Y) = P(X|Y) \\cdot P(Y) = P(Y|X) \\cdot P(X)$\n",
    "- $P(X, Y, Z) = P(X|Y, Z) \\cdot P(Y|Z) \\cdot P(Z)$ - Lančano pravilo \n",
    "- Ako su $X$ i $Y$ NEZAVISNE promenljive: $P(X|Y) = P(X), P(Y|X) = P(Y)$\n",
    "- $P(X|Y) = \\frac{P(Y|X) * P(X)}{P(Y)}$ - Bajesova teorema"
   ]
  },
  {
   "cell_type": "code",
   "execution_count": 8,
   "metadata": {},
   "outputs": [
    {
     "ename": "ImportError",
     "evalue": "cannot import name 'BayesianNetwork' from 'pgmpy.models' (/usr/local/lib/python3.8/site-packages/pgmpy/models/__init__.py)",
     "output_type": "error",
     "traceback": [
      "\u001b[0;31m---------------------------------------------------------------------------\u001b[0m",
      "\u001b[0;31mImportError\u001b[0m                               Traceback (most recent call last)",
      "\u001b[0;32m<ipython-input-8-6be1a66e180a>\u001b[0m in \u001b[0;36m<module>\u001b[0;34m\u001b[0m\n\u001b[1;32m      1\u001b[0m \u001b[0;31m# Bajesovski model\u001b[0m\u001b[0;34m\u001b[0m\u001b[0;34m\u001b[0m\u001b[0;34m\u001b[0m\u001b[0m\n\u001b[0;32m----> 2\u001b[0;31m \u001b[0;32mfrom\u001b[0m \u001b[0mpgmpy\u001b[0m\u001b[0;34m.\u001b[0m\u001b[0mmodels\u001b[0m \u001b[0;32mimport\u001b[0m \u001b[0mBayesianNetwork\u001b[0m\u001b[0;34m\u001b[0m\u001b[0;34m\u001b[0m\u001b[0m\n\u001b[0m\u001b[1;32m      3\u001b[0m \u001b[0;34m\u001b[0m\u001b[0m\n\u001b[1;32m      4\u001b[0m \u001b[0;31m# Conditional Probability Table, funkcije uslovne raspodele tabelarno predstavljena\u001b[0m\u001b[0;34m\u001b[0m\u001b[0;34m\u001b[0m\u001b[0;34m\u001b[0m\u001b[0m\n\u001b[1;32m      5\u001b[0m \u001b[0;32mfrom\u001b[0m \u001b[0mpgmpy\u001b[0m\u001b[0;34m.\u001b[0m\u001b[0mfactors\u001b[0m\u001b[0;34m.\u001b[0m\u001b[0mdiscrete\u001b[0m \u001b[0;32mimport\u001b[0m \u001b[0mTabularCPD\u001b[0m\u001b[0;34m\u001b[0m\u001b[0;34m\u001b[0m\u001b[0m\n",
      "\u001b[0;31mImportError\u001b[0m: cannot import name 'BayesianNetwork' from 'pgmpy.models' (/usr/local/lib/python3.8/site-packages/pgmpy/models/__init__.py)"
     ]
    }
   ],
   "source": [
    "# Bajesovski model\n",
    "from pgmpy.models import BayesianModel\n",
    "\n",
    "# Conditional Probability Table, funkcije uslovne raspodele tabelarno predstavljena\n",
    "from pgmpy.factors.discrete import TabularCPD \n",
    "\n",
    "# Algoritam koji vrši zaključivanje \n",
    "from pgmpy.inference import VariableElimination"
   ]
  },
  {
   "cell_type": "code",
   "execution_count": 9,
   "metadata": {},
   "outputs": [],
   "source": [
    "# Kasalj, Temperatura, X-ray, COVID\n",
    "\n",
    "'''\n",
    "kasalj   temperatura\n",
    "     \\   /\n",
    "     X-ray\n",
    "       |\n",
    "     covid\n",
    "'''         \n",
    "\n",
    "K_cpd = TabularCPD(\n",
    "    variable=\"kasalj\",\n",
    "    variable_card=2,\n",
    "    values=[[0.4],[0.6]],\n",
    "    state_names = { 'kasalj': ['NE', 'DA'] }\n",
    ")\n",
    "\n",
    "T_cpd = TabularCPD(\n",
    "    variable=\"temperatura\",\n",
    "    variable_card=2,\n",
    "    values=[[0.3],[0.7]],\n",
    "    state_names = { 'temperatura': ['N', 'V'] }\n",
    ")\n",
    "\n",
    "X_cpd = TabularCPD(\n",
    "    variable=\"X-ray\",\n",
    "    variable_card=2,\n",
    "    evidence=['kasalj','temperatura'],\n",
    "    evidence_card=[2,2],\n",
    "    values=[\n",
    "        [0.1,0.2,0.3,0.4],\n",
    "        [0.9,0.8,0.7,0.6],\n",
    "    ],\n",
    "    state_names = {\n",
    "        'kasalj': ['NE', 'DA'],\n",
    "        'temperatura': ['N', 'V'],\n",
    "        'X-ray': ['LOS', 'DOBAR']\n",
    "    }\n",
    ")\n",
    "\n",
    "C_cpd = TabularCPD(\n",
    "    variable=\"covid\",\n",
    "    variable_card=2,\n",
    "    evidence=['X-ray'],\n",
    "    evidence_card=[2],\n",
    "    values=[\n",
    "        [0.2,0.7],\n",
    "        [0.8,0.3],\n",
    "    ],\n",
    "    state_names = {\n",
    "        'X-ray': ['LOS', 'DOBAR'],\n",
    "        'covid': ['NE', 'DA']\n",
    "    }\n",
    ")"
   ]
  },
  {
   "cell_type": "code",
   "execution_count": 11,
   "metadata": {},
   "outputs": [],
   "source": [
    "# Konstrukcija modela pomocu CPD i veza izmedju cvorova\n",
    "model = BayesianModel([('kasalj', 'X-ray'), ('temperatura', 'X-ray'), ('X-ray', 'covid')])\n",
    "model.add_cpds(K_cpd, T_cpd, X_cpd, C_cpd)"
   ]
  },
  {
   "cell_type": "code",
   "execution_count": 12,
   "metadata": {},
   "outputs": [
    {
     "data": {
      "text/plain": [
       "True"
      ]
     },
     "execution_count": 12,
     "metadata": {},
     "output_type": "execute_result"
    }
   ],
   "source": [
    "# Provera ispravnosti modela (probati sa izmenama vrednosti CPD)\n",
    "model.check_model()"
   ]
  },
  {
   "cell_type": "code",
   "execution_count": 13,
   "metadata": {},
   "outputs": [
    {
     "name": "stderr",
     "output_type": "stream",
     "text": [
      "Finding Elimination Order: : 100%|██████████| 3/3 [00:00<00:00, 634.92it/s]\n",
      "Eliminating: temperatura: 100%|██████████| 3/3 [00:00<00:00, 350.26it/s]"
     ]
    },
    {
     "name": "stdout",
     "output_type": "stream",
     "text": [
      "+-----------+--------------+\n",
      "| covid     |   phi(covid) |\n",
      "+===========+==============+\n",
      "| covid(NE) |       0.5550 |\n",
      "+-----------+--------------+\n",
      "| covid(DA) |       0.4450 |\n",
      "+-----------+--------------+\n"
     ]
    },
    {
     "name": "stderr",
     "output_type": "stream",
     "text": [
      "\n"
     ]
    }
   ],
   "source": [
    "# Izvršavanje probabilističkih upita\n",
    "inference = VariableElimination(model)\n",
    "res = inference.query(['covid'])\n",
    "print(res)"
   ]
  },
  {
   "cell_type": "code",
   "execution_count": 19,
   "metadata": {},
   "outputs": [
    {
     "name": "stderr",
     "output_type": "stream",
     "text": [
      "Finding Elimination Order: : 100%|██████████| 1/1 [00:00<00:00, 248.99it/s]\n",
      "Eliminating: X-ray: 100%|██████████| 1/1 [00:00<00:00, 163.85it/s]"
     ]
    },
    {
     "name": "stdout",
     "output_type": "stream",
     "text": [
      "+-----------+--------------+\n",
      "| covid     |   phi(covid) |\n",
      "+===========+==============+\n",
      "| covid(NE) |       0.5000 |\n",
      "+-----------+--------------+\n",
      "| covid(DA) |       0.5000 |\n",
      "+-----------+--------------+\n"
     ]
    },
    {
     "name": "stderr",
     "output_type": "stream",
     "text": [
      "\n"
     ]
    }
   ],
   "source": [
    "# Izvršavanje upita uz opažanje pojedinih vrednosti \n",
    "inference = VariableElimination(model)\n",
    "res = inference.query(['covid'], evidence={'kasalj': 'DA', 'temperatura': 'V'})\n",
    "print(res)"
   ]
  },
  {
   "cell_type": "code",
   "execution_count": 17,
   "metadata": {},
   "outputs": [
    {
     "name": "stderr",
     "output_type": "stream",
     "text": [
      "Finding Elimination Order: : 100%|██████████| 2/2 [00:00<00:00, 385.58it/s]\n",
      "Eliminating: temperatura: 100%|██████████| 2/2 [00:00<00:00, 90.62it/s]\n",
      "Finding Elimination Order: : 100%|██████████| 1/1 [00:00<00:00, 131.63it/s]\n",
      "Eliminating: temperatura: 100%|██████████| 1/1 [00:00<00:00, 65.11it/s]"
     ]
    },
    {
     "name": "stdout",
     "output_type": "stream",
     "text": [
      "+-----------+--------------+\n",
      "| covid     |   phi(covid) |\n",
      "+===========+==============+\n",
      "| covid(NE) |       0.2000 |\n",
      "+-----------+--------------+\n",
      "| covid(DA) |       0.8000 |\n",
      "+-----------+--------------+\n",
      "+-----------+--------------+\n",
      "| covid     |   phi(covid) |\n",
      "+===========+==============+\n",
      "| covid(NE) |       0.2000 |\n",
      "+-----------+--------------+\n",
      "| covid(DA) |       0.8000 |\n",
      "+-----------+--------------+\n"
     ]
    },
    {
     "name": "stderr",
     "output_type": "stream",
     "text": [
      "\n"
     ]
    }
   ],
   "source": [
    "# Primer nezavisnosti usled zatvaranja toka zavisnosti u grafu\n",
    "inference = VariableElimination(model)\n",
    "res1 = inference.query(['covid'], evidence={'X-ray': 'LOS'})\n",
    "print(res1)\n",
    "res2 = inference.query(['covid'], evidence={'X-ray': 'LOS', 'kasalj': 'NE'})\n",
    "print(res2)"
   ]
  },
  {
   "cell_type": "code",
   "execution_count": 20,
   "metadata": {},
   "outputs": [
    {
     "name": "stderr",
     "output_type": "stream",
     "text": [
      "Finding Elimination Order: : 100%|██████████| 1/1 [00:00<00:00, 354.37it/s]\n",
      "Eliminating: temperatura: 100%|██████████| 1/1 [00:00<00:00, 324.06it/s]"
     ]
    },
    {
     "name": "stdout",
     "output_type": "stream",
     "text": [
      "{'covid': 'DA'}\n"
     ]
    },
    {
     "name": "stderr",
     "output_type": "stream",
     "text": [
      "\n"
     ]
    }
   ],
   "source": [
    "# Primer MAP upita\n",
    "inference = VariableElimination(model)\n",
    "res = inference.map_query(['covid'], evidence={'X-ray': 'LOS', 'kasalj': 'NE'})\n",
    "print(res)"
   ]
  },
  {
   "cell_type": "code",
   "execution_count": 21,
   "metadata": {},
   "outputs": [
    {
     "data": {
      "text/plain": [
       "(kasalj _|_ temperatura)\n",
       "(kasalj _|_ covid | X-ray)\n",
       "(kasalj _|_ covid | X-ray, temperatura)\n",
       "(temperatura _|_ kasalj)\n",
       "(temperatura _|_ covid | X-ray)\n",
       "(temperatura _|_ covid | X-ray, kasalj)\n",
       "(covid _|_ kasalj, temperatura | X-ray)\n",
       "(covid _|_ temperatura | X-ray, kasalj)\n",
       "(covid _|_ kasalj | X-ray, temperatura)"
      ]
     },
     "execution_count": 21,
     "metadata": {},
     "output_type": "execute_result"
    }
   ],
   "source": [
    "# Pronađene nezavisnosti u grafu\n",
    "model.get_independencies()"
   ]
  },
  {
   "cell_type": "code",
   "execution_count": 22,
   "metadata": {},
   "outputs": [
    {
     "data": {
      "text/plain": [
       "(kasalj _|_ temperatura)"
      ]
     },
     "execution_count": 22,
     "metadata": {},
     "output_type": "execute_result"
    }
   ],
   "source": [
    "# Pronađene lokalne nezavisnosti vezane za promenljivu \"kasalj\"\n",
    "model.local_independencies('kasalj')"
   ]
  },
  {
   "cell_type": "code",
   "execution_count": 26,
   "metadata": {},
   "outputs": [
    {
     "data": {
      "text/plain": [
       "{'kasalj': {'X-ray', 'covid', 'kasalj'}}"
      ]
     },
     "execution_count": 26,
     "metadata": {},
     "output_type": "execute_result"
    }
   ],
   "source": [
    "# Pronađene aktivne putanje zavisnosti u odnosu na čvor \"kasalj\"\n",
    "model.active_trail_nodes('kasalj')"
   ]
  },
  {
   "cell_type": "code",
   "execution_count": 28,
   "metadata": {},
   "outputs": [
    {
     "data": {
      "text/plain": [
       "{'kasalj': {'kasalj', 'temperatura'}}"
      ]
     },
     "execution_count": 28,
     "metadata": {},
     "output_type": "execute_result"
    }
   ],
   "source": [
    "# Pronađene aktivne putanje zavisnosti u odnosu na čvor \"kasalj\"\n",
    "# pri opažanju vrednosti promenljive X-ray (zatvaranje V-strukture u čvoru X-ray)\n",
    "model.active_trail_nodes('kasalj', observed=['X-ray'])"
   ]
  }
 ],
 "metadata": {
  "kernelspec": {
   "display_name": "Python 3",
   "language": "python",
   "name": "python3"
  },
  "language_info": {
   "codemirror_mode": {
    "name": "ipython",
    "version": 3
   },
   "file_extension": ".py",
   "mimetype": "text/x-python",
   "name": "python",
   "nbconvert_exporter": "python",
   "pygments_lexer": "ipython3",
   "version": "3.8.5"
  }
 },
 "nbformat": 4,
 "nbformat_minor": 4
}
