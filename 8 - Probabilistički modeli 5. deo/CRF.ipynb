{
 "cells": [
  {
   "cell_type": "markdown",
   "id": "ccaca709",
   "metadata": {},
   "source": [
    "# Uslovna slučajna polja - Conditional Random Fields (CRF)"
   ]
  },
  {
   "cell_type": "code",
   "execution_count": 1,
   "id": "2388a36c",
   "metadata": {},
   "outputs": [],
   "source": [
    "from sklearn_crfsuite import CRF"
   ]
  },
  {
   "cell_type": "code",
   "execution_count": 2,
   "id": "739312dd",
   "metadata": {},
   "outputs": [],
   "source": [
    "# Konstrukcija feature-a ulaznog parametra X\n",
    "def create_features(X):\n",
    "    features = []\n",
    "    for i in range(len(X)):\n",
    "        x = X[i]\n",
    "        \n",
    "        current_features = {\n",
    "            'bias': 1,\n",
    "            'nuc': x.lower()\n",
    "        }\n",
    "        \n",
    "        if i > 0:\n",
    "            current_features.update({\n",
    "                '-1:nuc': X[i - 1].lower()\n",
    "            })\n",
    "\n",
    "        features.append(current_features)\n",
    "    \n",
    "    return features"
   ]
  },
  {
   "cell_type": "code",
   "execution_count": 3,
   "id": "0d3ccd2d",
   "metadata": {},
   "outputs": [],
   "source": [
    "# Podaci za obučavanje/testiranje modela\n",
    "X = ['ATTATATTATATTATATTAAA', 'CCTAGTCGTGTCGCAAAAAAAACTGCTCTGACCTGAGC', 'ATTATATGCCGCGGC', 'GGGCCCCGGCTTATATAT']\n",
    "Y = ['---------------------', '++++++++++++++--------++++++++++++++++', '-------++++++++', '++++++++++--------']"
   ]
  },
  {
   "cell_type": "code",
   "execution_count": 4,
   "id": "b85e2ce1",
   "metadata": {},
   "outputs": [],
   "source": [
    "X_prepared = [create_features(x) for x in X]"
   ]
  },
  {
   "cell_type": "code",
   "execution_count": 5,
   "id": "c4811cc5",
   "metadata": {},
   "outputs": [
    {
     "name": "stdout",
     "output_type": "stream",
     "text": [
      "[{'bias': 1, 'nuc': 'a'}, {'bias': 1, 'nuc': 't', '-1:nuc': 'a'}, {'bias': 1, 'nuc': 't', '-1:nuc': 't'}, {'bias': 1, 'nuc': 'a', '-1:nuc': 't'}, {'bias': 1, 'nuc': 't', '-1:nuc': 'a'}, {'bias': 1, 'nuc': 'a', '-1:nuc': 't'}, {'bias': 1, 'nuc': 't', '-1:nuc': 'a'}, {'bias': 1, 'nuc': 't', '-1:nuc': 't'}, {'bias': 1, 'nuc': 'a', '-1:nuc': 't'}, {'bias': 1, 'nuc': 't', '-1:nuc': 'a'}, {'bias': 1, 'nuc': 'a', '-1:nuc': 't'}, {'bias': 1, 'nuc': 't', '-1:nuc': 'a'}, {'bias': 1, 'nuc': 't', '-1:nuc': 't'}, {'bias': 1, 'nuc': 'a', '-1:nuc': 't'}, {'bias': 1, 'nuc': 't', '-1:nuc': 'a'}, {'bias': 1, 'nuc': 'a', '-1:nuc': 't'}, {'bias': 1, 'nuc': 't', '-1:nuc': 'a'}, {'bias': 1, 'nuc': 't', '-1:nuc': 't'}, {'bias': 1, 'nuc': 'a', '-1:nuc': 't'}, {'bias': 1, 'nuc': 'a', '-1:nuc': 'a'}, {'bias': 1, 'nuc': 'a', '-1:nuc': 'a'}]\n"
     ]
    }
   ],
   "source": [
    "# Primer jednog niza feature-a\n",
    "print(X_prepared[0])"
   ]
  },
  {
   "cell_type": "code",
   "execution_count": 6,
   "id": "7e48b728",
   "metadata": {},
   "outputs": [],
   "source": [
    "# Transformacija podataka za obučavanje\n",
    "y_train = [list(y) for y in Y]\n",
    "X_train = X_prepared"
   ]
  },
  {
   "cell_type": "code",
   "execution_count": 7,
   "id": "5f8c60d0",
   "metadata": {},
   "outputs": [],
   "source": [
    "# Inicijalizacija CRF algoritma i treniranje modela\n",
    "crf = CRF(\n",
    "    algorithm='lbfgs',\n",
    "    c1=0.1,\n",
    "    c2=0.1,\n",
    "    max_iterations=100,\n",
    "    all_possible_transitions=True\n",
    ")\n",
    "\n",
    "try:\n",
    "    crf.fit(X_train, y_train)\n",
    "except AttributeError:\n",
    "    pass\n"
   ]
  },
  {
   "cell_type": "code",
   "execution_count": 8,
   "id": "8fdd8518",
   "metadata": {},
   "outputs": [
    {
     "name": "stdout",
     "output_type": "stream",
     "text": [
      "CCGGTTAACACCAAATTTATATCTATCTGTTTACCTCGGCGCC\n",
      "++++++++++++---------------------++++++++++\n",
      "\n"
     ]
    }
   ],
   "source": [
    "# Evaluacija modela\n",
    "\n",
    "x = 'CCGGTTAACACCAAATTTATATCTATCTGTTTACCTCGGCGCC'\n",
    "y_pred = crf.predict([create_features(x)])\n",
    "for i in range(len(y_pred)):\n",
    "    print(x)\n",
    "    print(''.join(y_pred[i]))\n",
    "    print()"
   ]
  },
  {
   "cell_type": "code",
   "execution_count": 9,
   "id": "6e3d226e",
   "metadata": {},
   "outputs": [
    {
     "name": "stdout",
     "output_type": "stream",
     "text": [
      "(('nuc:a', '-'), 1.206173)\n",
      "(('nuc:a', '+'), -1.206173)\n",
      "(('nuc:t', '-'), 0.94765)\n",
      "(('nuc:t', '+'), -0.94765)\n",
      "(('-1:nuc:a', '-'), 0.168122)\n",
      "(('-1:nuc:a', '+'), -0.168122)\n",
      "(('nuc:c', '+'), 1.680139)\n",
      "(('nuc:g', '+'), 0.91978)\n",
      "(('-1:nuc:g', '+'), 0.585843)\n"
     ]
    }
   ],
   "source": [
    "# Analiza težinskih faktora feature-a u zavisnosti od stanja\n",
    "for el in crf.state_features_.items():\n",
    "    print(el)"
   ]
  },
  {
   "cell_type": "code",
   "execution_count": 10,
   "id": "a973abff",
   "metadata": {},
   "outputs": [
    {
     "data": {
      "text/plain": [
       "{('-', '-'): 0.908999,\n",
       " ('-', '+'): -1.390005,\n",
       " ('+', '-'): -1.304624,\n",
       " ('+', '+'): 1.797423}"
      ]
     },
     "execution_count": 10,
     "metadata": {},
     "output_type": "execute_result"
    }
   ],
   "source": [
    "# Analiza težinskih faktora prelazaka između stanja\n",
    "crf.transition_features_"
   ]
  }
 ],
 "metadata": {
  "kernelspec": {
   "display_name": "Python 3 (ipykernel)",
   "language": "python",
   "name": "python3"
  },
  "language_info": {
   "codemirror_mode": {
    "name": "ipython",
    "version": 3
   },
   "file_extension": ".py",
   "mimetype": "text/x-python",
   "name": "python",
   "nbconvert_exporter": "python",
   "pygments_lexer": "ipython3",
   "version": "3.8.9"
  }
 },
 "nbformat": 4,
 "nbformat_minor": 5
}
